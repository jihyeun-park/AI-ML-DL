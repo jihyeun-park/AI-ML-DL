{
  "nbformat": 4,
  "nbformat_minor": 0,
  "metadata": {
    "colab": {
      "name": "Doit_06.ipynb",
      "provenance": [],
      "collapsed_sections": [],
      "authorship_tag": "ABX9TyNBxqSI4bxhf/lcgzBpWey4",
      "include_colab_link": true
    },
    "kernelspec": {
      "name": "python3",
      "display_name": "Python 3"
    },
    "language_info": {
      "name": "python"
    }
  },
  "cells": [
    {
      "cell_type": "markdown",
      "metadata": {
        "id": "view-in-github",
        "colab_type": "text"
      },
      "source": [
        "<a href=\"https://colab.research.google.com/github/jihyeun-park/AI-ML-DL/blob/main/Doit_06.ipynb\" target=\"_parent\"><img src=\"https://colab.research.google.com/assets/colab-badge.svg\" alt=\"Open In Colab\"/></a>"
      ]
    },
    {
      "cell_type": "code",
      "execution_count": 6,
      "metadata": {
        "colab": {
          "base_uri": "https://localhost:8080/"
        },
        "id": "MxZrTuBw2ORA",
        "outputId": "c27bc07b-206b-49e0-f23e-59ef78bbb322"
      },
      "outputs": [
        {
          "output_type": "stream",
          "name": "stdout",
          "text": [
            "(569, 30) (569,)\n"
          ]
        }
      ],
      "source": [
        "# 사이킷런에 포함된 위스콘신 유방암 데이터 세트\n",
        "\n",
        "# 악성종양 or 정상종양 구분 - 이진분류 문제\n",
        "\n",
        "# 1. 유방암 데이터 세트 준비하기\n",
        "from sklearn.datasets import load_breast_cancer\n",
        "cancer = load_breast_cancer()\n",
        "\n",
        "# 2.입력데이터 확인하기\n",
        "print(cancer.data.shape, cancer.target.shape)\n"
      ]
    },
    {
      "cell_type": "code",
      "source": [
        "# 3. cancer에는 569개의 샘플과 30개의 특성이 있다는 것 확인\n",
        "# 처음 3개의 샘플 출력 -> 3 * 30 = 90 출력\n",
        "\n",
        "cancer.data[:3]\n",
        "\n",
        "# 특징이 너무나 많아서 산점도 표현을 불가능 -> 박스플롯 이용"
      ],
      "metadata": {
        "colab": {
          "base_uri": "https://localhost:8080/"
        },
        "id": "zZiVyNTajjHJ",
        "outputId": "6a6068da-2d69-4c2c-90e7-14cbf76110bf"
      },
      "execution_count": 5,
      "outputs": [
        {
          "output_type": "execute_result",
          "data": {
            "text/plain": [
              "array([[1.799e+01, 1.038e+01, 1.228e+02, 1.001e+03, 1.184e-01, 2.776e-01,\n",
              "        3.001e-01, 1.471e-01, 2.419e-01, 7.871e-02, 1.095e+00, 9.053e-01,\n",
              "        8.589e+00, 1.534e+02, 6.399e-03, 4.904e-02, 5.373e-02, 1.587e-02,\n",
              "        3.003e-02, 6.193e-03, 2.538e+01, 1.733e+01, 1.846e+02, 2.019e+03,\n",
              "        1.622e-01, 6.656e-01, 7.119e-01, 2.654e-01, 4.601e-01, 1.189e-01],\n",
              "       [2.057e+01, 1.777e+01, 1.329e+02, 1.326e+03, 8.474e-02, 7.864e-02,\n",
              "        8.690e-02, 7.017e-02, 1.812e-01, 5.667e-02, 5.435e-01, 7.339e-01,\n",
              "        3.398e+00, 7.408e+01, 5.225e-03, 1.308e-02, 1.860e-02, 1.340e-02,\n",
              "        1.389e-02, 3.532e-03, 2.499e+01, 2.341e+01, 1.588e+02, 1.956e+03,\n",
              "        1.238e-01, 1.866e-01, 2.416e-01, 1.860e-01, 2.750e-01, 8.902e-02],\n",
              "       [1.969e+01, 2.125e+01, 1.300e+02, 1.203e+03, 1.096e-01, 1.599e-01,\n",
              "        1.974e-01, 1.279e-01, 2.069e-01, 5.999e-02, 7.456e-01, 7.869e-01,\n",
              "        4.585e+00, 9.403e+01, 6.150e-03, 4.006e-02, 3.832e-02, 2.058e-02,\n",
              "        2.250e-02, 4.571e-03, 2.357e+01, 2.553e+01, 1.525e+02, 1.709e+03,\n",
              "        1.444e-01, 4.245e-01, 4.504e-01, 2.430e-01, 3.613e-01, 8.758e-02]])"
            ]
          },
          "metadata": {},
          "execution_count": 5
        }
      ]
    },
    {
      "cell_type": "code",
      "source": [
        "# 4. 박스 플롯의 특성의 사분위 관찰하기\n",
        "\n",
        "import matplotlib.pyplot as plt\n",
        "\n",
        "plt.boxplot(cancer.data)\n",
        "plt.xlabel('feature')\n",
        "plt.ylabel('value')\n",
        "plt.show()"
      ],
      "metadata": {
        "colab": {
          "base_uri": "https://localhost:8080/",
          "height": 279
        },
        "id": "_5CfUtvSjs64",
        "outputId": "b8e5131b-593e-431e-fdc8-fd3884e58f22"
      },
      "execution_count": 7,
      "outputs": [
        {
          "output_type": "display_data",
          "data": {
            "image/png": "[encoded data removed]",
            "text/plain": [
              "<Figure size 432x288 with 1 Axes>"
            ]
          },
          "metadata": {
            "needs_background": "light"
          }
        }
      ]
    },
    {
      "cell_type": "code",
      "source": [
        "# 4. 눈에 띄는 특성 살펴보기 -> 4,14,24 이 눈에 띔\n",
        "\n",
        "cancer.feature_names[[3,13,23]]"
      ],
      "metadata": {
        "colab": {
          "base_uri": "https://localhost:8080/"
        },
        "id": "spScCRR0kKov",
        "outputId": "a9d2acff-a55e-4185-e30a-d5eb66f8b5d8"
      },
      "execution_count": 10,
      "outputs": [
        {
          "output_type": "execute_result",
          "data": {
            "text/plain": [
              "array(['mean area', 'area error', 'worst area'], dtype='<U23')"
            ]
          },
          "metadata": {},
          "execution_count": 10
        }
      ]
    },
    {
      "cell_type": "code",
      "source": [
        "# 5. 타깃 데이터 확인하기 -> 어차피 cancer.target 배열에는 0/1만 \n",
        "\n",
        "import numpy as np\n",
        "\n",
        "# return_counts=True : 고유한 값이 등장하는 횟수를 세어서 반환\n",
        "\n",
        "np.unique(cancer.target, return_counts=True) # unique() 고유한 값을 찾아 반환해주는 함수\n",
        "\n",
        "# 212 - 음성 클래스 / 357 - 양성 클래스"
      ],
      "metadata": {
        "colab": {
          "base_uri": "https://localhost:8080/"
        },
        "id": "889KOtazkOhl",
        "outputId": "8bf3d87a-ff28-4bc8-9fae-801f2fd89470"
      },
      "execution_count": 14,
      "outputs": [
        {
          "output_type": "execute_result",
          "data": {
            "text/plain": [
              "(array([0, 1]), array([212, 357]))"
            ]
          },
          "metadata": {},
          "execution_count": 14
        }
      ]
    },
    {
      "cell_type": "code",
      "source": [
        "# 6. 훈련 데이터 세트 저장하기\n",
        "\n",
        "x = cancer.data\n",
        "y = cancer.target\n",
        "\n",
        "# 여기까지가 훈련 데이터 준비 -- "
      ],
      "metadata": {
        "id": "TIXqHIrrkmZK"
      },
      "execution_count": 15,
      "outputs": []
    },
    {
      "cell_type": "code",
      "source": [
        "# 모델의 성능 평가를 위해서 훈련 데이터 나누기\n",
        "\n",
        "# 1. train_test_splot() 함수를 활용해서 세트 나누기\n",
        "\n",
        "from sklearn.model_selection import train_test_split\n",
        "\n",
        "# 이 함수는 기본적으로 훈련 세트 75% 테스트 세트 25% 의 비율로 나눠줌"
      ],
      "metadata": {
        "id": "9B4HsRh1l3CF"
      },
      "execution_count": 17,
      "outputs": []
    },
    {
      "cell_type": "code",
      "source": [
        "# 2. 입력데이터 = x, 타깃 데이터 = y 그밖의 설정을 매개변수로 설정\n",
        "\n",
        "x_train, x_test, y_train, y_test = train_test_split(x, y, stratify=y, test_size=0.2, random_state=42)\n",
        "\n",
        "# stratify=y : 훈련 데이터를 나눌 때 클래스 비율을 동일하게 하는데, 일부 클래스 비율이 불균형한 경우\n",
        "\n",
        "# test_size=0.2 : 훈련 데이터 비율은 조절하고 싶을 때 80:20\n",
        "\n",
        "# random_state=42 : 데이터를 섞은 다음에 나눌 수 있도록 하는데 42번 섞고 나누도록 설정\n",
        "\n",
        "print(x_train.shape, x_test.shape) # shape 배열의 크기 확인"
      ],
      "metadata": {
        "colab": {
          "base_uri": "https://localhost:8080/"
        },
        "id": "raVAUmzWncZQ",
        "outputId": "515e433b-fa07-4d56-c945-e8692147baee"
      },
      "execution_count": 22,
      "outputs": [
        {
          "output_type": "stream",
          "name": "stdout",
          "text": [
            "(455, 30) (114, 30)\n"
          ]
        }
      ]
    },
    {
      "cell_type": "code",
      "source": [
        "# 3. unique() -> 훈련 세트의 타깃 확인\n",
        "\n",
        "np.unique(y_train, return_counts=True) # 비율 구성이 거의 비슷함을 확인할 수 있음"
      ],
      "metadata": {
        "colab": {
          "base_uri": "https://localhost:8080/"
        },
        "id": "vDqL22T5n8pT",
        "outputId": "8c153d0d-0ee7-4f17-a5a5-cc561cd7d9ba"
      },
      "execution_count": 23,
      "outputs": [
        {
          "output_type": "execute_result",
          "data": {
            "text/plain": [
              "(array([0, 1]), array([170, 285]))"
            ]
          },
          "metadata": {},
          "execution_count": 23
        }
      ]
    },
    {
      "cell_type": "code",
      "source": [
        "# 로지스틱 회귀 구현 !!!\n",
        "\n",
        "# 1) 정방향으로 데이터가 흘러가는 과정\n",
        "# 2) 가중치 업데이트를 위해 역방향으로 데이터가 흘러가는 과정 구현\n",
        "\n",
        "# 앞서 배운 것과 함수가 거의 동일\n",
        "\n",
        "class LogisticNeuron:\n",
        "  \n",
        "  def __init__(self):  # 가중치를 미리 초기화하지 않고 나중에 입력 데이터를 보고 특성 개수에 맞게 결정 \n",
        "    self.w = None\n",
        "    self.b = None\n",
        "\n",
        "  def forpass(self, x): \n",
        "    z = np.sum(x * self.w) + self.b # 직선 방정식 계산\n",
        "    return z\n",
        "\n",
        "  def backprop(self, x, err):\n",
        "    w_grad = x * err # 가중치에 대한 그레이디언트 계산\n",
        "    b_grad = 1* err # 절편에 대한 그레이디언트 계산\n",
        "    return w_grad, b_grad"
      ],
      "metadata": {
        "id": "1jslxOeQqKc2"
      },
      "execution_count": 25,
      "outputs": []
    },
    {
      "cell_type": "code",
      "source": [
        "# 훈련하는 메서드 구현하기 \n",
        "\n",
        "# 1. fit() 메서드 구현하기 \n",
        "\n",
        "def fit(self, x, y, epochs=100):\n",
        "  self.w = np.ones(x.shape[1]) # 가중치 초기화\n",
        "  self.b = 0 # 절편 초기화\n",
        "  for i in range(epochs): # 에포크만큼 반복\n",
        "    for x_i, y_i in zip(x,y ): # 모든 샘플에 대해 반복\n",
        "      z = self.forpass(x_i) # 정방향 계산\n",
        "      a = self.activation(z) # 활성화 함수 적용\n",
        "      err = -(y_i - a) # 오차 계산\n",
        "      w_grad, b_grad = self.backprop(x_i, err) # 역방향 계산\n",
        "      self.w -= w_grad # 가중치 업데이트\n",
        "      self.b -=b_grad # 절편 업데이트  \n"
      ],
      "metadata": {
        "id": "UKJpwOYSrI5o"
      },
      "execution_count": 26,
      "outputs": []
    },
    {
      "cell_type": "code",
      "source": [
        "# 2. activation() 구현하기\n",
        "\n",
        "def activation(self, z):\n",
        "  a =1/(1+np.exp(-z)) # 시그모이드 계산\n",
        "  return a \n",
        "\n",
        "# np.exp() 자연 상수의 지수 함수 계산"
      ],
      "metadata": {
        "id": "Y6aY2-_HxCeD"
      },
      "execution_count": 27,
      "outputs": []
    },
    {
      "cell_type": "code",
      "source": [
        "# 예측하는 메서드 구현하기\n",
        "\n",
        "# 1. predict() 구현하기 - 새로운 샘플에 대한 예측값 계산\n",
        "\n",
        "# 예측값) 입력값 -> 선형함수 -> 활성화 함수 -> 임계함수\n",
        "\n",
        "def predict(self, x):\n",
        "  z = [self.forpass(x_i) for x_i in x] # 선형 함수\n",
        "  a = self.activation(np.array(z)) # 활성화 함수\n",
        "  return a > 0.5 # 계단 함수 "
      ],
      "metadata": {
        "id": "deU1KrvAxalO"
      },
      "execution_count": 28,
      "outputs": []
    },
    {
      "cell_type": "code",
      "source": [
        "class LogisticNeuron:\n",
        "  \n",
        "  def __init__(self):  # 가중치를 미리 초기화하지 않고 나중에 입력 데이터를 보고 특성 개수에 맞게 결정 \n",
        "    self.w = None\n",
        "    self.b = None\n",
        "\n",
        "  def forpass(self, x): \n",
        "    z = np.sum(x * self.w) + self.b # 직선 방정식 계산\n",
        "    return z\n",
        "\n",
        "  def backprop(self, x, err):\n",
        "    w_grad = x * err # 가중치에 대한 그레이디언트 계산\n",
        "    b_grad = 1* err # 절편에 대한 그레이디언트 계산\n",
        "    return w_grad, b_grad\n",
        "\n",
        " # 1. fit() 메서드 구현하기 \n",
        "\n",
        "def fit(self, x, y, epochs=100):\n",
        "  self.w = np.ones(x.shape[1]) # 가중치 초기화\n",
        "  self.b = 0 # 절편 초기화\n",
        "  for i in range(epochs): # 에포크만큼 반복\n",
        "    for x_i, y_i in zip(x,y ): # 모든 샘플에 대해 반복\n",
        "      z = self.forpass(x_i) # 정방향 계산\n",
        "      a = self.activation(z) # 활성화 함수 적용\n",
        "      err = -(y_i - a) # 오차 계산\n",
        "      w_grad, b_grad = self.backprop(x_i, err) # 역방향 계산\n",
        "      self.w -= w_grad # 가중치 업데이트\n",
        "      self.b -=b_grad # 절편 업데이트  \n",
        "\n",
        " # 2. activation() 구현하기\n",
        "\n",
        "def activation(self, z):\n",
        "  a =1/(1+np.exp(-z)) # 시그모이드 계산\n",
        "  return a \n",
        "\n",
        "# 예측하는 메서드 구현하기\n",
        "\n",
        "def predict(self, x):\n",
        "  z = [self.forpass(x_i) for x_i in x] # 선형 함수\n",
        "  a = self.activation(np.array(z)) # 활성화 함수\n",
        "  return a > 0.5 # 계단 함수 \n",
        "\n",
        "neuron = LogisticNeuron()\n",
        "neuron.fit(x_train, y_train) # 왜 오류?? \n",
        "\n",
        "np.mean(neuron.predict(x_test)==(y_test))\n"
      ],
      "metadata": {
        "colab": {
          "base_uri": "https://localhost:8080/",
          "height": 248
        },
        "id": "A_vygB3UzNo1",
        "outputId": "3f224e67-d470-4b81-cbec-d2ff03aa8960"
      },
      "execution_count": 35,
      "outputs": [
        {
          "output_type": "error",
          "ename": "AttributeError",
          "evalue": "ignored",
          "traceback": [
            "\u001b[0;31m---------------------------------------------------------------------------\u001b[0m",
            "\u001b[0;31mAttributeError\u001b[0m                            Traceback (most recent call last)",
            "\u001b[0;32m<ipython-input-35-c4916b3dda8d>\u001b[0m in \u001b[0;36m<module>\u001b[0;34m()\u001b[0m\n\u001b[1;32m     42\u001b[0m \u001b[0;34m\u001b[0m\u001b[0m\n\u001b[1;32m     43\u001b[0m \u001b[0mneuron\u001b[0m \u001b[0;34m=\u001b[0m \u001b[0mLogisticNeuron\u001b[0m\u001b[0;34m(\u001b[0m\u001b[0;34m)\u001b[0m\u001b[0;34m\u001b[0m\u001b[0;34m\u001b[0m\u001b[0m\n\u001b[0;32m---> 44\u001b[0;31m \u001b[0mneuron\u001b[0m\u001b[0;34m.\u001b[0m\u001b[0mfit\u001b[0m\u001b[0;34m(\u001b[0m\u001b[0mx_train\u001b[0m\u001b[0;34m,\u001b[0m \u001b[0my_train\u001b[0m\u001b[0;34m)\u001b[0m \u001b[0;31m# 왜 오류??\u001b[0m\u001b[0;34m\u001b[0m\u001b[0;34m\u001b[0m\u001b[0m\n\u001b[0m\u001b[1;32m     45\u001b[0m \u001b[0;34m\u001b[0m\u001b[0m\n\u001b[1;32m     46\u001b[0m \u001b[0mnp\u001b[0m\u001b[0;34m.\u001b[0m\u001b[0mmean\u001b[0m\u001b[0;34m(\u001b[0m\u001b[0mneuron\u001b[0m\u001b[0;34m.\u001b[0m\u001b[0mpredict\u001b[0m\u001b[0;34m(\u001b[0m\u001b[0mx_test\u001b[0m\u001b[0;34m)\u001b[0m\u001b[0;34m==\u001b[0m\u001b[0;34m(\u001b[0m\u001b[0my_test\u001b[0m\u001b[0;34m)\u001b[0m\u001b[0;34m)\u001b[0m\u001b[0;34m\u001b[0m\u001b[0;34m\u001b[0m\u001b[0m\n",
            "\u001b[0;31mAttributeError\u001b[0m: 'LogisticNeuron' object has no attribute 'fit'"
          ]
        }
      ]
    },
    {
      "cell_type": "code",
      "source": [
        "# 로지스틱 회귀 모델 훈련시키기\n",
        "\n",
        "# 1. 모델 훈련하기\n",
        "\n",
        "neuron = LogisticNeuron()\n",
        "neuron.fit(x_train, y_train) # 왜 오류?? \n"
      ],
      "metadata": {
        "colab": {
          "base_uri": "https://localhost:8080/",
          "height": 211
        },
        "id": "8GeXQc5qzeSU",
        "outputId": "16b33271-e75b-437b-ccc9-e6f9a175adc1"
      },
      "execution_count": 34,
      "outputs": [
        {
          "output_type": "error",
          "ename": "AttributeError",
          "evalue": "ignored",
          "traceback": [
            "\u001b[0;31m---------------------------------------------------------------------------\u001b[0m",
            "\u001b[0;31mAttributeError\u001b[0m                            Traceback (most recent call last)",
            "\u001b[0;32m<ipython-input-34-894d683ba43a>\u001b[0m in \u001b[0;36m<module>\u001b[0;34m()\u001b[0m\n\u001b[1;32m      4\u001b[0m \u001b[0;34m\u001b[0m\u001b[0m\n\u001b[1;32m      5\u001b[0m \u001b[0mneuron\u001b[0m \u001b[0;34m=\u001b[0m \u001b[0mLogisticNeuron\u001b[0m\u001b[0;34m(\u001b[0m\u001b[0;34m)\u001b[0m\u001b[0;34m\u001b[0m\u001b[0;34m\u001b[0m\u001b[0m\n\u001b[0;32m----> 6\u001b[0;31m \u001b[0mneuron\u001b[0m\u001b[0;34m.\u001b[0m\u001b[0mfit\u001b[0m\u001b[0;34m(\u001b[0m\u001b[0mx_train\u001b[0m\u001b[0;34m,\u001b[0m \u001b[0my_train\u001b[0m\u001b[0;34m)\u001b[0m \u001b[0;31m# 왜 오류??\u001b[0m\u001b[0;34m\u001b[0m\u001b[0;34m\u001b[0m\u001b[0m\n\u001b[0m",
            "\u001b[0;31mAttributeError\u001b[0m: 'LogisticNeuron' object has no attribute 'fit'"
          ]
        }
      ]
    },
    {
      "cell_type": "code",
      "source": [
        "# 2. 테스트 세트 사용해 모델의 정확도 평가하기\n",
        "\n",
        "np.mean(neuron.predict(x_test)==(y_test))"
      ],
      "metadata": {
        "colab": {
          "base_uri": "https://localhost:8080/",
          "height": 211
        },
        "id": "TkCB_PP-zq93",
        "outputId": "1a895e1f-9e91-4901-d538-8908ccdebefa"
      },
      "execution_count": 33,
      "outputs": [
        {
          "output_type": "error",
          "ename": "AttributeError",
          "evalue": "ignored",
          "traceback": [
            "\u001b[0;31m---------------------------------------------------------------------------\u001b[0m",
            "\u001b[0;31mAttributeError\u001b[0m                            Traceback (most recent call last)",
            "\u001b[0;32m<ipython-input-33-cd2c716d6f97>\u001b[0m in \u001b[0;36m<module>\u001b[0;34m()\u001b[0m\n\u001b[1;32m      1\u001b[0m \u001b[0;31m# 2. 테스트 세트 사용해 모델의 정확도 평가하기\u001b[0m\u001b[0;34m\u001b[0m\u001b[0;34m\u001b[0m\u001b[0;34m\u001b[0m\u001b[0m\n\u001b[1;32m      2\u001b[0m \u001b[0;34m\u001b[0m\u001b[0m\n\u001b[0;32m----> 3\u001b[0;31m \u001b[0mnp\u001b[0m\u001b[0;34m.\u001b[0m\u001b[0mmean\u001b[0m\u001b[0;34m(\u001b[0m\u001b[0mneuron\u001b[0m\u001b[0;34m.\u001b[0m\u001b[0mpredict\u001b[0m\u001b[0;34m(\u001b[0m\u001b[0mx_test\u001b[0m\u001b[0;34m)\u001b[0m\u001b[0;34m==\u001b[0m\u001b[0;34m(\u001b[0m\u001b[0my_test\u001b[0m\u001b[0;34m)\u001b[0m\u001b[0;34m)\u001b[0m\u001b[0;34m\u001b[0m\u001b[0;34m\u001b[0m\u001b[0m\n\u001b[0m",
            "\u001b[0;31mAttributeError\u001b[0m: 'LogisticNeuron' object has no attribute 'predict'"
          ]
        }
      ]
    },
    {
      "cell_type": "code",
      "source": [
        ""
      ],
      "metadata": {
        "id": "2_3ta8u93yhf"
      },
      "execution_count": null,
      "outputs": []
    }
  ]
}