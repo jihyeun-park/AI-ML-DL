{
  "nbformat": 4,
  "nbformat_minor": 0,
  "metadata": {
    "colab": {
      "name": "Doit_08.ipynb",
      "provenance": [],
      "collapsed_sections": [],
      "authorship_tag": "ABX9TyPxJFfDs5PYhRCALYSXeA1b",
      "include_colab_link": true
    },
    "kernelspec": {
      "name": "python3",
      "display_name": "Python 3"
    },
    "language_info": {
      "name": "python"
    }
  },
  "cells": [
    {
      "cell_type": "markdown",
      "metadata": {
        "id": "view-in-github",
        "colab_type": "text"
      },
      "source": [
        "<a href=\"https://colab.research.google.com/github/jihyeun-park/AI-ML-DL/blob/main/Doit_08.ipynb\" target=\"_parent\"><img src=\"https://colab.research.google.com/assets/colab-badge.svg\" alt=\"Open In Colab\"/></a>"
      ]
    },
    {
      "cell_type": "code",
      "execution_count": 1,
      "metadata": {
        "id": "GCrZv7Sh_Jg9"
      },
      "outputs": [],
      "source": [
        "# 훈련 세트와 테스트 세트 준비\n",
        "\n",
        "# 훈련 세트 -> fit()에 전달되어 모델 훈련하는데 사용\n",
        "# 테스트 세트 -> score()에 전달되어 모델의 성능 평가\n",
        "\n",
        "# 테스트 세트의 사용 방법 - 목표 : 어느 데이터 세트에만 치우친 모델을 만들지 않는 것"
      ]
    },
    {
      "cell_type": "code",
      "source": [
        "from sklearn.datasets import load_breast_cancer\n",
        "from sklearn.model_selection import train_test_split\n",
        "cancer = load_breast_cancer()\n",
        "\n",
        "x = cancer.data\n",
        "y = cancer.target\n",
        "\n",
        "# 훈련 세트와 테스트 세트로 나눈다 - 일정 비율로\n",
        "x_train_all, x_test, y_train_all, y_test = train_test_split(x, y, stratify=y, test_size=0.2, random_state=42) "
      ],
      "metadata": {
        "id": "JkvlHjud_uNt"
      },
      "execution_count": 9,
      "outputs": []
    },
    {
      "cell_type": "code",
      "source": [
        "# 그 다음 SGDClassifier 클래스 -> 로지스틱 회귀 모델 훈련\n",
        "\n",
        "from sklearn.linear_model import SGDClassifier\n",
        "\n",
        "sgd = SGDClassifier(loss='log', random_state=42)\n",
        "sgd.fit(x_train_all, y_train_all) # 모델 훈련\n",
        "sgd.score(x_test, y_test) # 성능 평가 \n",
        "\n",
        "# 성능 평가 결과 정확도 83% \n",
        "\n",
        "# 보완해주기 위해서 loss 와 같이 사용자가 직접 선택하는 매개변수 값을 바꿔보겠음"
      ],
      "metadata": {
        "colab": {
          "base_uri": "https://localhost:8080/"
        },
        "id": "NzqqTLFlAl4f",
        "outputId": "f4d9ad30-a890-421b-a6db-91a6be8f1309"
      },
      "execution_count": 4,
      "outputs": [
        {
          "output_type": "execute_result",
          "data": {
            "text/plain": [
              "0.8333333333333334"
            ]
          },
          "metadata": {},
          "execution_count": 4
        }
      ]
    },
    {
      "cell_type": "code",
      "source": [
        "from sklearn.linear_model import SGDClassifier\n",
        "\n",
        "sgd = SGDClassifier(loss='hinge', random_state=42) # hinge로 바꾸면 선형 서포트 벡터 머신 문제 모델로 바뀜 = SVM\n",
        "sgd.fit(x_train_all, y_train_all) # 모델 훈련\n",
        "sgd.score(x_test, y_test) # 성능 평가 \n",
        "\n",
        " # loss 값을 hinge로 바꿨더니 정확도가 올라감\n",
        "\n",
        " # 즉 성능이 만족스럽지 않을 경우 loss 매개변수를 수정했듯이 다른 매개변수들도 수정해주면 됨 = 모델 튜닝의 과정"
      ],
      "metadata": {
        "colab": {
          "base_uri": "https://localhost:8080/"
        },
        "id": "HmoAfwT2BbOm",
        "outputId": "c4ca45c3-6d9f-48dc-d31e-73f81a8c001e"
      },
      "execution_count": 5,
      "outputs": [
        {
          "output_type": "execute_result",
          "data": {
            "text/plain": [
              "0.9385964912280702"
            ]
          },
          "metadata": {},
          "execution_count": 5
        }
      ]
    },
    {
      "cell_type": "code",
      "source": [
        "# but. 테스트 세트로 모델을 튜닝하면 실전에서는 좋은 성과 내기 어려움 ... \n",
        "\n",
        "# 아이한테 답안지를 보여주는 셈이기 때문에 테스트에서만 좋은 성능을 보여주는 모델이 되어버림\n",
        "\n",
        "# 모델의 일반화 성능이 왜곡 / 테스트 세트의 정보가 모델에 새어 나갔다고 말함"
      ],
      "metadata": {
        "id": "_Y2UnQakBz-8"
      },
      "execution_count": 7,
      "outputs": []
    },
    {
      "cell_type": "code",
      "source": [
        "# 즉 모델 튜링을 위한 세트를 따로 준비해야 한다! \n",
        "\n",
        "# 모델 튜링을 위한 세트 = 검증 세트 라고 하는데 이것은 훈련 세트에서 뗴어 내어서 만든다\n",
        "\n",
        "# 데이터 세트) 훈련 세트 : 검증 세트 : 테스트 세트 = 60 : 20 : 20"
      ],
      "metadata": {
        "id": "nD5zuYfcCV3c"
      },
      "execution_count": 8,
      "outputs": []
    },
    {
      "cell_type": "code",
      "source": [
        "# 1. 데이터 세트 준비하기\n",
        "\n",
        "from sklearn.linear_model import SGDClassifier\n",
        "from sklearn.model_selection import train_test_split\n",
        "cancer = load_breast_cancer()\n",
        "\n",
        "x = cancer.data\n",
        "y = cancer.target\n",
        "\n",
        "x_train_all, x_test, y_train_all, y_test = train_test_split(x, y, stratify=y, test_size=0.2, random_state=42)"
      ],
      "metadata": {
        "id": "fgYFKbmgC47G"
      },
      "execution_count": 10,
      "outputs": []
    },
    {
      "cell_type": "code",
      "source": [
        "# 2. 검증 세트 분할하기\n",
        "\n",
        "# 8:2 -> 8 -> 6:2 \n",
        "\n",
        "# x_trian = 훈련 세트 \n",
        "# x_val = 테스트 세트\n",
        "\n",
        "x_train, x_val, y_train, y_val = train_test_split(x_train_all, y_train_all,\n",
        "                                                  stratify=y_train_all, test_size=0.2, random_state=42) # 테스트 세트 20%\n",
        "print(len(x_train), len(x_val))"
      ],
      "metadata": {
        "colab": {
          "base_uri": "https://localhost:8080/"
        },
        "id": "r6ulFoQUDPN2",
        "outputId": "b59c649c-5710-4fde-861c-0af8607057fb"
      },
      "execution_count": 12,
      "outputs": [
        {
          "output_type": "stream",
          "name": "stdout",
          "text": [
            "364 91\n"
          ]
        }
      ]
    },
    {
      "cell_type": "code",
      "source": [
        "# 3. 검증 세트 사용해 모델 평가하기 \n",
        "\n",
        "sgd = SGDClassifier(loss='log', random_state=42)\n",
        "sgd.fit(x_train, y_train)\n",
        "sgd.score(x_val, y_val)\n",
        "\n",
        "# 정확도가 69% 로 더 낮아짐\n",
        "\n",
        "# 그 이유는 데이터 양이 적은 편이기 때문에 매개변수 값을 조금만 조절해도 정확도가 크게 변함(풀이 작기 때문에 좌지우지가 쉽다)\n",
        "\n",
        "# 데이터가 많다면 그것의 대부분을 훈련 세트에 할당하는 것이 사실 좋다"
      ],
      "metadata": {
        "colab": {
          "base_uri": "https://localhost:8080/"
        },
        "id": "UXn37NvxDmMb",
        "outputId": "3f0e5f0c-4fe2-4d03-cb55-93a356397ec5"
      },
      "execution_count": 14,
      "outputs": [
        {
          "output_type": "execute_result",
          "data": {
            "text/plain": [
              "0.6923076923076923"
            ]
          },
          "metadata": {},
          "execution_count": 14
        }
      ]
    },
    {
      "cell_type": "code",
      "source": [
        "# 누락된 값을 처리하는 \"데이터 전처리 과정\"\n",
        "\n",
        "# 특성의 스케일이 다른 경우에도 전처리가 필요한데, 특성의 스케일을 다른 말로 값의 범위라고 함\n",
        "\n",
        "# 경사 하강법은 이러한 스케일이 민감한 알고리즘 -> 특성의 스케일을 맞추는 전처리가 필요 -> \"스케일 조정\""
      ],
      "metadata": {
        "id": "MMYheioUEX9p"
      },
      "execution_count": 16,
      "outputs": []
    },
    {
      "cell_type": "code",
      "source": [
        "# 일단 스케일을 조정하지 않고 훈련을 해보겠음 !\n",
        "\n",
        "# 1. 훈련 데이터 준비하고 스케일 비교하기\n",
        "\n",
        "# 특성 스케일 비교를 위해 유방암 데이터의 mean perimeter & mean area 특성을 가져옴\n",
        "\n",
        "import matplotlib.pyplot as plt\n",
        "\n",
        "print(cancer.feature_names[[2,3]])\n",
        "plt.boxplot(x_train[:,2:4])\n",
        "plt.xlabel('feature')\n",
        "plt.ylabel('value')\n",
        "plt.show()\n",
        "\n",
        "# 그래프로 보니 두 특성의 스케일 차이가 큼\n",
        "\n",
        "# 여기에 그대로 경사 하강법을 적용하면? 가중치가 어떻게 변할까"
      ],
      "metadata": {
        "colab": {
          "base_uri": "https://localhost:8080/",
          "height": 297
        },
        "id": "nofaD1xdFGjr",
        "outputId": "063e01d7-87a4-48e4-cb67-69cced26fab5"
      },
      "execution_count": 20,
      "outputs": [
        {
          "output_type": "stream",
          "name": "stdout",
          "text": [
            "['mean perimeter' 'mean area']\n"
          ]
        },
        {
          "output_type": "display_data",
          "data": {
            "image/png": "[encoded data removed]",
            "text/plain": [
              "<Figure size 432x288 with 1 Axes>"
            ]
          },
          "metadata": {
            "needs_background": "light"
          }
        }
      ]
    },
    {
      "cell_type": "code",
      "source": [
        "# 2. 가중치를 기록할 변수와 학습률 파라미터 추가하기\n",
        "\n",
        "# SingleLayer 클래스에 인스턴스 변수 추가 -> 에포크마다 가중치의 값을 저장해 가중치 변화 관찰시 사용\n",
        "\n",
        "def __init__(self, learning_rate=0.1):\n",
        "  self.w=None\n",
        "  self.b=None\n",
        "  self.losses =[]\n",
        "  self.w_history =[] # 인스턴스 변수 \n",
        "  self.lr = learning_rate # 학습률 매개변수 -> 가중치 업데이트 양 조절\n",
        "\n",
        "  # 전역 최솟값을 놓치지 않도록 가중치의 업데이트 양 조절이 필요\n",
        "\n",
        "  # 적절한 학습률을 적용해야 가중치가 적절한 폭으로 업데이트되므로 천천히 전역 최솟값을 찾는다\n",
        "  # = 손실 함수의 표면을 천천히 이동하여 전역 최솟값을 찾는다"
      ],
      "metadata": {
        "id": "0ezsCtfjGCrc"
      },
      "execution_count": 21,
      "outputs": []
    },
    {
      "cell_type": "code",
      "source": [
        "# 3. 가중치 기록하고 업데이트 양 조절하기\n",
        "\n",
        "# fit() 메서드에서 가중치가 바뀔 때마다 w_history 리스트에 가중치를 기록\n",
        "\n",
        "# 넘파이 배열을 리스트에 추가하면 실제 값이 복사되는 것이 아니라 배열을 참조하기 때문에 \n",
        "# 가중치 변수 self.w의 값이 바뀔 때마다 그 값을 복사하여 w_history 리스트에 추가해야 함\n",
        "\n",
        "import numpy as np\n",
        "\n",
        "def fit(self, x, y, epochs=100):\n",
        "  self.w = np.ones(x.shape[1]) # 가중치 초기화\n",
        "  self.b=0 # 절편 초기화 \n",
        "  self.w_history.append(self.w.copy()) # 가중치 기록\n",
        "  np.random.seed(42) # 무작위로 시드 지정\n",
        "  for i in range(epochs): \n",
        "    loss=0\n",
        "\n",
        "    # 인덱스 섞기\n",
        "    indexes = np.random.permutation(np.arrange(len(x)))\n",
        "    for i in indexes: # 모든 샘플에 대해 반복\n",
        "      z=self.forpass(x[i]) # 정방향 계산\n",
        "      a=self.activation(z) # 활성화 함수 \n",
        "      err=-(y[i]-a) # 오차 계산\n",
        "      w_grad, b_grad=self.backprop(x[i], err) # 역방향 계산\n",
        "      self.w -= self.lr * w_grad # 가중치 업데이트\n",
        "      self.b -= b_grad # 절편 업데이트\n",
        "\n",
        "      # 가중치 기록\n",
        "      self.w_history.append(self, w.copy())\n",
        "\n",
        "      # 안전한 로그 계산을 위해 클리핑한 후 손실 누적 -> 클리핑 ??? \n",
        "      a = np.clip(a, 1e-10, 1-1e-10)\n",
        "      loss += -(y[i]*np.log(a)+(1-y[i])*np.log(1-a))\n",
        "\n",
        "    # 에포크마다 평균 손실 저장\n",
        "    self.losses.append(loss/len(y))"
      ],
      "metadata": {
        "id": "QizSCOxcQH_Z"
      },
      "execution_count": 26,
      "outputs": []
    },
    {
      "cell_type": "code",
      "source": [
        "# SingleLayer 클래스 불러오기 \n",
        "\n",
        "class SingleLayer:\n",
        "    \n",
        "    def __init__(self):\n",
        "        self.w = None\n",
        "        self.b = None\n",
        "        self.losses = []\n",
        "\n",
        "    def forpass(self, x):\n",
        "        z = np.sum(x * self.w) + self.b  # 직선 방정식을 계산합니다\n",
        "        return z\n",
        "\n",
        "    def backprop(self, x, err):\n",
        "        w_grad = x * err    # 가중치에 대한 그래디언트를 계산합니다\n",
        "        b_grad = 1 * err    # 절편에 대한 그래디언트를 계산합니다\n",
        "        return w_grad, b_grad\n",
        "\n",
        "    def activation(self, z):\n",
        "        z = np.clip(z, -100, None) # 안전한 np.exp() 계산을 위해\n",
        "        a = 1 / (1 + np.exp(-z))  # 시그모이드 계산\n",
        "        return a\n",
        "        \n",
        "    def fit(self, x, y, epochs=100):\n",
        "        self.w = np.ones(x.shape[1])               # 가중치를 초기화합니다.\n",
        "        self.b = 0                                 # 절편을 초기화합니다.\n",
        "        for i in range(epochs):                    # epochs만큼 반복합니다\n",
        "            loss = 0\n",
        "            # 인덱스를 섞습니다\n",
        "            indexes = np.random.permutation(np.arange(len(x)))\n",
        "            for i in indexes:                      # 모든 샘플에 대해 반복합니다\n",
        "                z = self.forpass(x[i])             # 정방향 계산\n",
        "                a = self.activation(z)             # 활성화 함수 적용\n",
        "                err = -(y[i] - a)                  # 오차 계산\n",
        "                w_grad, b_grad = self.backprop(x[i], err) # 역방향 계산\n",
        "                self.w -= w_grad                   # 가중치 업데이트\n",
        "                self.b -= b_grad                   # 절편 업데이트\n",
        "                # 안전한 로그 계산을 위해 클리핑한 후 손실을 누적합니다\n",
        "                a = np.clip(a, 1e-10, 1-1e-10)\n",
        "                loss += -(y[i]*np.log(a)+(1-y[i])*np.log(1-a))\n",
        "            # 에포크마다 평균 손실을 저장합니다\n",
        "            self.losses.append(loss/len(y))\n",
        "    \n",
        "    def predict(self, x):\n",
        "        z = [self.forpass(x_i) for x_i in x]     # 정방향 계산\n",
        "        return np.array(z) > 0                   # 스텝 함수 적용\n",
        "    \n",
        "    def score(self, x, y):\n",
        "        return np.mean(self.predict(x) == y)"
      ],
      "metadata": {
        "id": "OrPJVi6kT51U"
      },
      "execution_count": 27,
      "outputs": []
    },
    {
      "cell_type": "code",
      "source": [
        "# 4. 모델 훈련하고 평가하기\n",
        "\n",
        "layer1 = SingleLayer()\n",
        "layer1.fit(x_train, y_train)\n",
        "layer1.score(x_val, y_val)"
      ],
      "metadata": {
        "colab": {
          "base_uri": "https://localhost:8080/"
        },
        "id": "yYN4aQw5RZki",
        "outputId": "fe67628a-c0fe-4583-bc02-c30386f7df8a"
      },
      "execution_count": 28,
      "outputs": [
        {
          "output_type": "execute_result",
          "data": {
            "text/plain": [
              "0.9120879120879121"
            ]
          },
          "metadata": {},
          "execution_count": 28
        }
      ]
    },
    {
      "cell_type": "code",
      "source": [
        "# 5. 그래프로 나타내기\n",
        "\n",
        "# layer1 객체의 인스턴스 변수 w_history에는 100번의 에포크 동안 변경된 가중치가 모두 기록\n",
        "\n",
        "from sklearn.linear_model import SGDClassifier\n",
        "from sklearn.model_selection import train_test_split\n",
        "from sklearn.datasets import load_breast_cancer\n",
        "\n",
        "import numpy as np\n",
        "import matplotlib.pyplot as plt\n",
        "\n",
        "cancer = load_breast_cancer()\n",
        "\n",
        "x = cancer.data\n",
        "y = cancer.target\n",
        "\n",
        "x_train_all, x_test, y_train_all, y_test = train_test_split(x, y, stratify=y, test_size=0.2, random_state=42)\n",
        "x_train, x_val, y_train, y_val = train_test_split(x_train_all, y_train_all,\n",
        "                                                  stratify=y_train_all, test_size=0.2, random_state=42) \n",
        "\n",
        "class SingleLayer:\n",
        "    \n",
        "    def __init__(self, learning_rate=0.1):\n",
        "        self.w = None\n",
        "        self.b = None\n",
        "        self.losses = []\n",
        "        self.w_history = []\n",
        "        self.lr = learning_rate\n",
        "\n",
        "    def forpass(self, x):\n",
        "        z = np.sum(x * self.w) + self.b  # 직선 방정식을 계산합니다\n",
        "        return z\n",
        "\n",
        "    def backprop(self, x, err):\n",
        "        w_grad = x * err    # 가중치에 대한 그래디언트를 계산합니다\n",
        "        b_grad = 1 * err    # 절편에 대한 그래디언트를 계산합니다\n",
        "        return w_grad, b_grad\n",
        "\n",
        "    def activation(self, z):\n",
        "        z = np.clip(z, -100, None) # 안전한 np.exp() 계산을 위해\n",
        "        a = 1 / (1 + np.exp(-z))  # 시그모이드 계산\n",
        "        return a\n",
        "        \n",
        "    def fit(self, x, y, epochs=100):\n",
        "        self.w = np.ones(x.shape[1])               # 가중치를 초기화합니다.\n",
        "        self.b = 0                                 # 절편을 초기화합니다.\n",
        "        self.w_history.append(self.w.copy())       # 가중치를 기록합니다.                                \n",
        "        for i in range(epochs):                    # epochs만큼 반복합니다\n",
        "            loss = 0\n",
        "            # 인덱스를 섞습니다\n",
        "            indexes = np.random.permutation(np.arange(len(x)))\n",
        "            for i in indexes:                      # 모든 샘플에 대해 반복합니다\n",
        "                z = self.forpass(x[i])             # 정방향 계산\n",
        "                a = self.activation(z)             # 활성화 함수 적용\n",
        "                err = -(y[i] - a)                  # 오차 계산\n",
        "                w_grad, b_grad = self.backprop(x[i], err) # 역방향 계산\n",
        "                self.w -= w_grad                   # 가중치 업데이트\n",
        "                self.b -= b_grad                   # 절편 업데이트\n",
        "                # 가중치를 기록합니다\n",
        "                self.w_history.append(self.w.copy()) \n",
        "\n",
        "                # 안전한 로그 계산을 위해 클리핑한 후 손실을 누적합니다\n",
        "                a = np.clip(a, 1e-10, 1-1e-10)\n",
        "                loss += -(y[i]*np.log(a)+(1-y[i])*np.log(1-a))\n",
        "            # 에포크마다 평균 손실을 저장합니다\n",
        "            self.losses.append(loss/len(y))\n",
        "    \n",
        "    def predict(self, x):\n",
        "        z = [self.forpass(x_i) for x_i in x]     # 정방향 계산\n",
        "        return np.array(z) > 0                   # 스텝 함수 적용\n",
        "    \n",
        "    def score(self, x, y):\n",
        "        return np.mean(self.predict(x) == y)\n",
        "\n",
        "layer1 = SingleLayer()\n",
        "layer1.fit(x_train, y_train)\n",
        "layer1.score(x_val, y_val)\n",
        "\n",
        "w2 = []\n",
        "w3 = []\n",
        "for w in layer1.w_history:\n",
        "  w2.append(w[2])\n",
        "  w3.append(w[3])\n",
        "plt.plot(w2, w3)\n",
        "plt.xlabel('w[2]')\n",
        "plt.ylabel('w[3]')\n",
        "plt.show()"
      ],
      "metadata": {
        "colab": {
          "base_uri": "https://localhost:8080/",
          "height": 279
        },
        "id": "kANl2FKiTnFR",
        "outputId": "313f7d44-871d-4e7a-c44e-48c9c5abd463"
      },
      "execution_count": 9,
      "outputs": [
        {
          "output_type": "display_data",
          "data": {
            "image/png": "[encoded data removed]",
            "text/plain": [
              "<Figure size 432x288 with 1 Axes>"
            ]
          },
          "metadata": {
            "needs_background": "light"
          }
        }
      ]
    },
    {
      "cell_type": "code",
      "source": [
        "train_mean = np.mean(x_train, axis=0) # 넘파이의 mean()이 평균 계산 \n",
        "train_std = np.std(x_train, axis=0) # 넘파이의 std()가 표준편차 계산 \n",
        "# axis=0으로 두면 각 특성들이 열로 정리가 가능 \n",
        "\n",
        "x_train_scaled = (x_train - train_mean) / train_std # 표준화 z로 변화시킨 값\n",
        "\n",
        "layer2 = SingleLayer()\n",
        "layer2.fit(x_train_scaled, y_train)\n",
        "# layer2.score(x_val, y_val)\n",
        "\n",
        "w2 = []\n",
        "w3 = []\n",
        "for w in layer2.w_history:\n",
        "  w2.append(w[2])\n",
        "  w3.append(w[3])\n",
        "plt.plot(w2, w3)\n",
        "plt.plot(w2[-1], w3[-1], 'ro')\n",
        "plt.xlabel('w[2]')\n",
        "plt.ylabel('w[3]')\n",
        "plt.show()"
      ],
      "metadata": {
        "colab": {
          "base_uri": "https://localhost:8080/",
          "height": 279
        },
        "id": "TaMZObD4dqD5",
        "outputId": "db6c69ad-1edf-4dc9-bf97-3c728b2ae4c1"
      },
      "execution_count": 11,
      "outputs": [
        {
          "output_type": "display_data",
          "data": {
            "image/png": "[encoded data removed]",
            "text/plain": [
              "<Figure size 432x288 with 1 Axes>"
            ]
          },
          "metadata": {
            "needs_background": "light"
          }
        }
      ]
    },
    {
      "cell_type": "code",
      "source": [
        "val_mean = np.mean(x_val, axis=0)\n",
        "val_std = np.std(x_val, axis=0)\n",
        "\n",
        "# 검증세트도 마찬가지로 표준화가 필요하다\n",
        "x_val_scaled = (x_val - val_mean) / val_std\n",
        "layer2.score(x_val_scaled, y_val)"
      ],
      "metadata": {
        "colab": {
          "base_uri": "https://localhost:8080/"
        },
        "id": "8WhLvcSAiw4-",
        "outputId": "9274de9c-13ad-4e01-9159-d79a2308736e"
      },
      "execution_count": 12,
      "outputs": [
        {
          "output_type": "execute_result",
          "data": {
            "text/plain": [
              "0.9560439560439561"
            ]
          },
          "metadata": {},
          "execution_count": 12
        }
      ]
    },
    {
      "cell_type": "code",
      "source": [
        "x_val_scaled = (x_val - train_mean) / train_std\n",
        "plt.plot(x_train_scaled[:50, 0], x_train_scaled[:50, 1], 'bo')\n",
        "plt.plot(x_val_scaled[:50, 0], x_val_scaled[:50, 1], 'ro')\n",
        "plt.xlabel('fature1')\n",
        "plt.ylabel('fature2')\n",
        "plt.legend(['train set', 'val.set'])\n",
        "plt.show()"
      ],
      "metadata": {
        "colab": {
          "base_uri": "https://localhost:8080/",
          "height": 279
        },
        "id": "9VUosCWpj0EZ",
        "outputId": "5311f729-9ae4-4fea-96de-a7668768ac5e"
      },
      "execution_count": 13,
      "outputs": [
        {
          "output_type": "display_data",
          "data": {
            "image/png": "[encoded data removed]",
            "text/plain": [
              "<Figure size 432x288 with 1 Axes>"
            ]
          },
          "metadata": {
            "needs_background": "light"
          }
        }
      ]
    },
    {
      "cell_type": "code",
      "source": [
        "layer4 = SingleLayer()\n",
        "layer4.fit(x_train_scaled, y_train, epochs=20) # 조기종료\n",
        "layer4.score(x_val_scaled, y_val)\n",
        "\n",
        "# 검증세트의 손실 계산 - 손실은 로지스틱 손실 \n",
        "\n",
        "# 손실을 나타낸 그래프 ! ! ! "
      ],
      "metadata": {
        "colab": {
          "base_uri": "https://localhost:8080/"
        },
        "id": "F4ztb0Fblrf_",
        "outputId": "83f4fcba-4408-479c-8415-21c55442b421"
      },
      "execution_count": 15,
      "outputs": [
        {
          "output_type": "execute_result",
          "data": {
            "text/plain": [
              "0.9560439560439561"
            ]
          },
          "metadata": {},
          "execution_count": 15
        }
      ]
    },
    {
      "cell_type": "code",
      "source": [
        "# L1규제 : w_grad += alpha * np.sign(w) \n",
        "# L2규제 : w_grad += alpha * w\n",
        "\n",
        "from sklearn.linear_model import SGDClassifier\n",
        "from sklearn.model_selection import train_test_split\n",
        "from sklearn.datasets import load_breast_cancer\n",
        "\n",
        "import numpy as np\n",
        "import matplotlib.pyplot as plt\n",
        "\n",
        "cancer = load_breast_cancer()\n",
        "\n",
        "x = cancer.data\n",
        "y = cancer.target\n",
        "\n",
        "x_train_all, x_test, y_train_all, y_test = train_test_split(x, y, stratify=y, test_size=0.2, random_state=42)\n",
        "x_train, x_val, y_train, y_val = train_test_split(x_train_all, y_train_all,\n",
        "                                                  stratify=y_train_all, test_size=0.2, random_state=42) \n",
        "\n",
        "class SingleLayer:\n",
        "    \n",
        "    # 1. 그레이디언트 업데이트 수식에 페널티 항 반영하기\n",
        "\n",
        "    def __init__(self, learning_rate=0.1):\n",
        "        self.w = None\n",
        "        self.b = None\n",
        "        self.losses = []\n",
        "        self.val_losses = []\n",
        "        self.w_history = []\n",
        "        self.lr = learning_rate\n",
        "        self.l1 = l1 # 규제 적용하지 않음\n",
        "        self.l2 = l2\n",
        "\n",
        "    def forpass(self, x):\n",
        "        z = np.sum(x * self.w) + self.b  # 직선 방정식을 계산합니다\n",
        "        return z\n",
        "\n",
        "    def backprop(self, x, err):\n",
        "        w_grad = x * err    # 가중치에 대한 그래디언트를 계산합니다\n",
        "        b_grad = 1 * err    # 절편에 대한 그래디언트를 계산합니다\n",
        "        return w_grad, b_grad\n",
        "\n",
        "    def activation(self, z):\n",
        "        z = np.clip(z, -100, None) # 안전한 np.exp() 계산을 위해\n",
        "        a = 1 / (1 + np.exp(-z))  # 시그모이드 계산\n",
        "        return a\n",
        "\n",
        "    # 2. fit() 메서드에서 역방향 계산할때, 그레이디언트에 페널티 항의 미분값을 더함\n",
        "        \n",
        "    def fit(self, x, y, epochs=100):\n",
        "        self.w = np.ones(x.shape[1])               # 가중치를 초기화합니다.\n",
        "        self.b = 0                                 # 절편을 초기화합니다.\n",
        "        self.w_history.append(self.w.copy())       # 가중치를 기록합니다.     \n",
        "        np.random.seed(42)    # 무작위 시드 지정\n",
        "\n",
        "        for i in range(epochs):                    # epochs만큼 반복합니다\n",
        "            loss = 0\n",
        "            # 인덱스를 섞습니다\n",
        "            indexes = np.random.permutation(np.arange(len(x)))\n",
        "            for i in indexes:                      # 모든 샘플에 대해 반복합니다\n",
        "                z = self.forpass(x[i])             # 정방향 계산\n",
        "                a = self.activation(z)             # 활성화 함수 적용\n",
        "                err = -(y[i] - a)                  # 오차 계산\n",
        "\n",
        "                w_grad, b_grad = self.backprop(x[i], err) # 역방향 계산\n",
        "                w_grad += self.l1 * np.sign(self.w) + self.l2 * self.w\n",
        "                self.w -= self.l1 * w_grad         # 가중치 업데이트\n",
        "                self.b -= b_grad                   # 절편 업데이트\n",
        "\n",
        "                # 가중치를 기록합니다\n",
        "                self.w_history.append(self.w.copy()) \n",
        "\n",
        "                # 안전한 로그 계산을 위해 클리핑한 후 손실을 누적합니다\n",
        "                a = np.clip(a, 1e-10, 1-1e-10)\n",
        "                loss += -(y[i]*np.log(a)+(1-y[i])*np.log(1-a))\n",
        "            # 에포크마다 평균 손실을 저장합니다\n",
        "            self.losses.append(loss/len(y))\n",
        "            # 검증 세트에 대한 손실을 계산합니다\n",
        "            self.update_val_loss(x_val, y_val)\n",
        "    \n",
        "    def predict(self, x):\n",
        "        z = [self.forpass(x_i) for x_i in x]     # 정방향 계산\n",
        "        return np.array(z) > 0                   # 스텝 함수 적용\n",
        "    \n",
        "    def score(self, x, y):\n",
        "        return np.mean(self.predict(x) == y)\n",
        "\n",
        "  # 3. 로지스틱 손실함수 계산에 페널티 항 추가하기\n",
        "    def reg_loss(self):\n",
        "      return self.l1 * np.sum(np.abs(self.w)) + self.l2/2 * np.sum(self.w**2)\n",
        "  \n",
        "  # 4. 검증 세트의 손실 계산\n",
        "    def update_val_loss(self, x_val, y_val):\n",
        "      if x_val is None:\n",
        "        return \n",
        "      val_loss = 0\n",
        "      for i in range(x_val):\n",
        "        z = self.forpass(x_val[i]) # 정방향 계산\n",
        "        a = self.activation(z) # 활성화 함수 적용\n",
        "        a = np.clip(a, 1e-10, 1-1e-10)\n",
        "        val_loss += -(y_val[i] * np.log(a) + (1-y_val[i]) * np.log(1-a))\n",
        "      self.val_losses.append(val_loss/len(y_val) + self.reg_loss())\n",
        "\n",
        "\n",
        "# 5. 로지스틱 함수에 L1 규제 적용\n",
        "\n",
        "l1_list = [0.0001, 0.001, 0.01]\n",
        "\n",
        "for l1 in l1_list:\n",
        "  lyr = SingleLayer(l1=l1)\n",
        "  lyr,fit(x_train_scaled, y_train, x_val=x_val_scaled, y_val=y_val)\n",
        "\n"
      ],
      "metadata": {
        "colab": {
          "base_uri": "https://localhost:8080/",
          "height": 248
        },
        "id": "zIXI6uCDvO9R",
        "outputId": "430cbb78-8560-40e9-8549-d8a83c0b20fd"
      },
      "execution_count": 18,
      "outputs": [
        {
          "output_type": "error",
          "ename": "TypeError",
          "evalue": "ignored",
          "traceback": [
            "\u001b[0;31m---------------------------------------------------------------------------\u001b[0m",
            "\u001b[0;31mTypeError\u001b[0m                                 Traceback (most recent call last)",
            "\u001b[0;32m<ipython-input-18-4dc82285b74a>\u001b[0m in \u001b[0;36m<module>\u001b[0;34m()\u001b[0m\n\u001b[1;32m    108\u001b[0m \u001b[0;34m\u001b[0m\u001b[0m\n\u001b[1;32m    109\u001b[0m \u001b[0;32mfor\u001b[0m \u001b[0ml1\u001b[0m \u001b[0;32min\u001b[0m \u001b[0ml1_list\u001b[0m\u001b[0;34m:\u001b[0m\u001b[0;34m\u001b[0m\u001b[0;34m\u001b[0m\u001b[0m\n\u001b[0;32m--> 110\u001b[0;31m   \u001b[0mlyr\u001b[0m \u001b[0;34m=\u001b[0m \u001b[0mSingleLayer\u001b[0m\u001b[0;34m(\u001b[0m\u001b[0ml1\u001b[0m\u001b[0;34m=\u001b[0m\u001b[0ml1\u001b[0m\u001b[0;34m)\u001b[0m\u001b[0;34m\u001b[0m\u001b[0;34m\u001b[0m\u001b[0m\n\u001b[0m\u001b[1;32m    111\u001b[0m   \u001b[0mlyr\u001b[0m\u001b[0;34m,\u001b[0m\u001b[0mfit\u001b[0m\u001b[0;34m(\u001b[0m\u001b[0mx_train_scaled\u001b[0m\u001b[0;34m,\u001b[0m \u001b[0my_train\u001b[0m\u001b[0;34m,\u001b[0m \u001b[0mx_val\u001b[0m\u001b[0;34m=\u001b[0m\u001b[0mx_val_scaled\u001b[0m\u001b[0;34m,\u001b[0m \u001b[0my_val\u001b[0m\u001b[0;34m=\u001b[0m\u001b[0my_val\u001b[0m\u001b[0;34m)\u001b[0m\u001b[0;34m\u001b[0m\u001b[0;34m\u001b[0m\u001b[0m\n\u001b[1;32m    112\u001b[0m \u001b[0;34m\u001b[0m\u001b[0m\n",
            "\u001b[0;31mTypeError\u001b[0m: __init__() got an unexpected keyword argument 'l1'"
          ]
        }
      ]
    },
    {
      "cell_type": "code",
      "source": [
        ""
      ],
      "metadata": {
        "id": "INUV7TF6EEV7"
      },
      "execution_count": null,
      "outputs": []
    }
  ]
}