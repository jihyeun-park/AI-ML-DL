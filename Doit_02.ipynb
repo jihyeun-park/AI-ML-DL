{
  "nbformat": 4,
  "nbformat_minor": 0,
  "metadata": {
    "colab": {
      "name": "Do it 딥러닝 입문 2일차의 사본",
      "provenance": [],
      "collapsed_sections": [],
      "authorship_tag": "ABX9TyN56pAZnIIqJqi0qC9X5Sit",
      "include_colab_link": true
    },
    "kernelspec": {
      "name": "python3",
      "display_name": "Python 3"
    },
    "language_info": {
      "name": "python"
    }
  },
  "cells": [
    {
      "cell_type": "markdown",
      "metadata": {
        "id": "view-in-github",
        "colab_type": "text"
      },
      "source": [
        "<a href=\"https://colab.research.google.com/github/jihyeun-park/AI-ML-DL/blob/main/Doit_02.ipynb\" target=\"_parent\"><img src=\"https://colab.research.google.com/assets/colab-badge.svg\" alt=\"Open In Colab\"/></a>"
      ]
    },
    {
      "cell_type": "markdown",
      "source": [
        "<h1> Do it 딥러닝 입문 실습 </h1>"
      ],
      "metadata": {
        "id": "2cOHLwsInqy9"
      }
    },
    {
      "cell_type": "markdown",
      "source": [
        "22.02.07 부터 2주간의 딥러닝 맛보기"
      ],
      "metadata": {
        "id": "5hOQAnC0n4dJ"
      }
    },
    {
      "cell_type": "code",
      "source": [
        "print('Hello, Do it 딥러닝')"
      ],
      "metadata": {
        "colab": {
          "base_uri": "https://localhost:8080/"
        },
        "id": "IiSChne5oBh_",
        "outputId": "5e5478f6-afb6-4d9c-f89a-9c115823edaa"
      },
      "execution_count": null,
      "outputs": [
        {
          "output_type": "stream",
          "name": "stdout",
          "text": [
            "Hello, Do it 딥러닝\n"
          ]
        }
      ]
    },
    {
      "cell_type": "code",
      "source": [
        "my_list = [10,'hello list',20]\n",
        "print(my_list[1])"
      ],
      "metadata": {
        "colab": {
          "base_uri": "https://localhost:8080/"
        },
        "id": "Nqq-6tbhpHnQ",
        "outputId": "117dab32-ea82-40a8-8d7a-630be5e02fd6"
      },
      "execution_count": null,
      "outputs": [
        {
          "output_type": "stream",
          "name": "stdout",
          "text": [
            "hello list\n"
          ]
        }
      ]
    },
    {
      "cell_type": "code",
      "source": [
        "my_list2 = [[10,20,30],[40,50,60]]\n",
        "print(my_list2[1][1])"
      ],
      "metadata": {
        "colab": {
          "base_uri": "https://localhost:8080/"
        },
        "id": "U_HprcPmp1BE",
        "outputId": "c7dc6587-8bed-49c4-8bb0-146d2066d111"
      },
      "execution_count": null,
      "outputs": [
        {
          "output_type": "stream",
          "name": "stdout",
          "text": [
            "50\n"
          ]
        }
      ]
    },
    {
      "cell_type": "code",
      "source": [
        "import numpy as np # 단순히 줄여서 쓰고 싶기 때문에\n",
        "print(np.__version__)"
      ],
      "metadata": {
        "colab": {
          "base_uri": "https://localhost:8080/"
        },
        "id": "EmQu-O0XqBke",
        "outputId": "5a7089fc-6252-4c6e-a301-a164717acf57"
      },
      "execution_count": null,
      "outputs": [
        {
          "output_type": "stream",
          "name": "stdout",
          "text": [
            "1.19.5\n"
          ]
        }
      ]
    },
    {
      "cell_type": "code",
      "source": [
        "# 넘파이로 배열 만들기\n",
        "my_arr = np.array([[10,20,30],[40,50,60]]) # 2차원 배열\n",
        "print(my_arr)"
      ],
      "metadata": {
        "colab": {
          "base_uri": "https://localhost:8080/"
        },
        "id": "FJiZ1EhQqOvL",
        "outputId": "ebc3a622-0586-459a-f885-08c145a3c9c1"
      },
      "execution_count": null,
      "outputs": [
        {
          "output_type": "stream",
          "name": "stdout",
          "text": [
            "[[10 20 30]\n",
            " [40 50 60]]\n"
          ]
        }
      ]
    },
    {
      "cell_type": "code",
      "source": [
        "type(my_arr) # 해당 객체 타입 확인 -> 넘파이 배열 클래스인 ndarray임을 확인 가능! \n",
        "# print하지 않았는데도 출력이 되는 이유는 코드 셀의 마지막 줄은 자동으로 그 결과가 출력되므로!"
      ],
      "metadata": {
        "colab": {
          "base_uri": "https://localhost:8080/"
        },
        "id": "al31Hlo2qZpv",
        "outputId": "70c47627-9f27-436a-a278-1d1f80fcc519"
      },
      "execution_count": null,
      "outputs": [
        {
          "output_type": "execute_result",
          "data": {
            "text/plain": [
              "numpy.ndarray"
            ]
          },
          "metadata": {},
          "execution_count": 13
        }
      ]
    },
    {
      "cell_type": "code",
      "source": [
        "my_arr[0][2]"
      ],
      "metadata": {
        "colab": {
          "base_uri": "https://localhost:8080/"
        },
        "id": "iV8oFdoBqiAr",
        "outputId": "cad1d2f9-a5f6-4eab-9839-76f01c4001d0"
      },
      "execution_count": null,
      "outputs": [
        {
          "output_type": "execute_result",
          "data": {
            "text/plain": [
              "30"
            ]
          },
          "metadata": {},
          "execution_count": 14
        }
      ]
    },
    {
      "cell_type": "code",
      "source": [
        "# 넘파이의 내장 함수 알아보기\n",
        "np.sum(my_arr) # 배열의 모든 요소를 더해주는 함수 = sum (파이썬처럼 for문으로 모두 더하지 않아도 됨)"
      ],
      "metadata": {
        "colab": {
          "base_uri": "https://localhost:8080/"
        },
        "id": "xFj1E3PJq7Rh",
        "outputId": "7b65f5d0-08a0-4c12-87cf-436dab167fbe"
      },
      "execution_count": null,
      "outputs": [
        {
          "output_type": "execute_result",
          "data": {
            "text/plain": [
              "210"
            ]
          },
          "metadata": {},
          "execution_count": 15
        }
      ]
    },
    {
      "cell_type": "code",
      "source": [
        "# 맷플롯립(matplotlib)으로 그래프 그리기\n",
        "import matplotlib.pyplot as plt # 별칭"
      ],
      "metadata": {
        "id": "OSZQniNtrI7i"
      },
      "execution_count": null,
      "outputs": []
    },
    {
      "cell_type": "code",
      "source": [
        "# 선 그래프 그리기\n",
        "plt.plot([1,2,3,4,5],[1,4,9,16,25])\n",
        "plt.show()"
      ],
      "metadata": {
        "colab": {
          "base_uri": "https://localhost:8080/",
          "height": 265
        },
        "id": "X_tT6cXcrXvK",
        "outputId": "0901abe1-9eb6-4195-8632-894e3f3bf7c3"
      },
      "execution_count": null,
      "outputs": [
        {
          "output_type": "display_data",
          "data": {
            "image/png": "[encoded data removed]",
            "text/plain": [
              "<Figure size 432x288 with 1 Axes>"
            ]
          },
          "metadata": {
            "needs_background": "light"
          }
        }
      ]
    },
    {
      "cell_type": "code",
      "source": [
        "# 산점도 그리기(점으로 그린 그래프)\n",
        "plt.scatter([1,2,3,4,5],[1,4,9,16,25])\n",
        "plt.show()"
      ],
      "metadata": {
        "colab": {
          "base_uri": "https://localhost:8080/",
          "height": 265
        },
        "id": "jjPdyL4LroFb",
        "outputId": "b27f5fdf-bf49-4b43-b0c2-e538f00fd4aa"
      },
      "execution_count": null,
      "outputs": [
        {
          "output_type": "display_data",
          "data": {
            "image/png": "[encoded data removed]",
            "text/plain": [
              "<Figure size 432x288 with 1 Axes>"
            ]
          },
          "metadata": {
            "needs_background": "light"
          }
        }
      ]
    },
    {
      "cell_type": "code",
      "source": [
        "# 산점도 그리기 by 넘파이 배열\n",
        "x = np.random.randn(1000) #표준 정규 분포를 따르는 난수 1000개 만들기\n",
        "y = np.random.randn(1000)\n",
        "plt.scatter(x,y)\n",
        "plt.show()\n",
        "\n",
        "# 딥러닝과 데이터 시각화를 뗄 수 없는 관계 !"
      ],
      "metadata": {
        "colab": {
          "base_uri": "https://localhost:8080/",
          "height": 265
        },
        "id": "mpAQbPRvr3_a",
        "outputId": "77530641-fc40-4dff-f121-203549740838"
      },
      "execution_count": null,
      "outputs": [
        {
          "output_type": "display_data",
          "data": {
            "image/png": "[encoded data removed]",
            "text/plain": [
              "<Figure size 432x288 with 1 Axes>"
            ]
          },
          "metadata": {
            "needs_background": "light"
          }
        }
      ]
    }
  ]
}