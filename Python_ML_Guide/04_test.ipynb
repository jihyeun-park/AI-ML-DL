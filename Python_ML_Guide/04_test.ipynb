{
 "cells": [
  {
   "cell_type": "code",
   "execution_count": null,
   "id": "138cebcb",
   "metadata": {},
   "outputs": [],
   "source": [
    " import numpy as np"
   ]
  },
  {
   "cell_type": "code",
   "execution_count": null,
   "id": "2f42d3df",
   "metadata": {},
   "outputs": [],
   "source": [
    "print(\"test1\")"
   ]
  },
  {
   "cell_type": "markdown",
   "id": "686c7c02",
   "metadata": {},
   "source": [
    "### 넘파이 기초 테스트"
   ]
  },
  {
   "cell_type": "markdown",
   "id": "5f4600b1",
   "metadata": {},
   "source": [
    "**ndarray 생성 실습**\n",
    "* ndarray로 생성\n",
    "* 다음 테스트"
   ]
  },
  {
   "cell_type": "code",
   "execution_count": null,
   "id": "80917759",
   "metadata": {},
   "outputs": [],
   "source": [
    "# code로 치고 markdown으로 바꿔서 실행"
   ]
  },
  {
   "cell_type": "code",
   "execution_count": null,
   "id": "4fceed06",
   "metadata": {},
   "outputs": [],
   "source": [
    "import numpy as np\n",
    "import matplotlib.pyplot as plt\n",
    "%matplotlib inline\n",
    "\n",
    "array1 = np.array([1,2,3,4])\n",
    "plt.hist(array1)"
   ]
  },
  {
   "cell_type": "code",
   "execution_count": null,
   "id": "77cfd6e9",
   "metadata": {},
   "outputs": [],
   "source": []
  }
 ],
 "metadata": {
  "kernelspec": {
   "display_name": "Python 3 (ipykernel)",
   "language": "python",
   "name": "python3"
  },
  "language_info": {
   "codemirror_mode": {
    "name": "ipython",
    "version": 3
   },
   "file_extension": ".py",
   "mimetype": "text/x-python",
   "name": "python",
   "nbconvert_exporter": "python",
   "pygments_lexer": "ipython3",
   "version": "3.9.7"
  }
 },
 "nbformat": 4,
 "nbformat_minor": 5
}
